{
  "nbformat": 4,
  "nbformat_minor": 0,
  "metadata": {
    "colab": {
      "name": "Titanic.ipynb",
      "provenance": [],
      "mount_file_id": "1l5xuVfOiayDCccuVoTHQDidRte7kGcLR",
      "authorship_tag": "ABX9TyM69PvJNNTt3CA7J9szmwpN",
      "include_colab_link": true
    },
    "kernelspec": {
      "name": "python3",
      "display_name": "Python 3"
    }
  },
  "cells": [
    {
      "cell_type": "markdown",
      "metadata": {
        "id": "view-in-github",
        "colab_type": "text"
      },
      "source": [
        "<a href=\"https://colab.research.google.com/github/mizykk/Kaggle/blob/main/Titanic.ipynb\" target=\"_parent\"><img src=\"https://colab.research.google.com/assets/colab-badge.svg\" alt=\"Open In Colab\"/></a>"
      ]
    },
    {
      "cell_type": "markdown",
      "metadata": {
        "id": "OL1Id3aF0zQ4"
      },
      "source": [
        "#### 준비"
      ]
    },
    {
      "cell_type": "markdown",
      "metadata": {
        "id": "--gUNzfO0OiG"
      },
      "source": [
        "디렉토리 지정하기"
      ]
    },
    {
      "cell_type": "code",
      "metadata": {
        "id": "A1iUdX63x7KN",
        "colab": {
          "base_uri": "https://localhost:8080/"
        },
        "outputId": "632b5399-e96c-495d-c76b-16caa42380c7"
      },
      "source": [
        "cd drive/'My Drive'/Study/Kaggle/Titanic"
      ],
      "execution_count": 1,
      "outputs": [
        {
          "output_type": "stream",
          "text": [
            "/content/drive/My Drive/Study/Kaggle/Titanic\n"
          ],
          "name": "stdout"
        }
      ]
    },
    {
      "cell_type": "markdown",
      "metadata": {
        "id": "gXsYP86e0FhQ"
      },
      "source": [
        "케글에서 데이터 가져오기"
      ]
    },
    {
      "cell_type": "code",
      "metadata": {
        "id": "QUOT1VVTxbJ5"
      },
      "source": [
        "# !cp -r drive/'My Drive'/Study/Kaggle /root/.kaggle/   # kaggl.json위치 지정\n",
        "# !chmod 600 /root/.kaggle/kaggle.json"
      ],
      "execution_count": 2,
      "outputs": []
    },
    {
      "cell_type": "code",
      "metadata": {
        "id": "xNkLz4inxM6a"
      },
      "source": [
        "# !kaggle competitions download -c titanic"
      ],
      "execution_count": 3,
      "outputs": []
    },
    {
      "cell_type": "markdown",
      "metadata": {
        "id": "aL4yxpZd074b"
      },
      "source": [
        "# Titanic"
      ]
    },
    {
      "cell_type": "markdown",
      "metadata": {
        "id": "4YX9WLqd0weJ"
      },
      "source": [
        "Import Library"
      ]
    },
    {
      "cell_type": "code",
      "metadata": {
        "id": "UUTtH0Scwoqb"
      },
      "source": [
        "import re\n",
        "import numpy as np\n",
        "import pandas as pd\n",
        "\n",
        "# Visualization\n",
        "import seaborn as sns\n",
        "import matplotlib.pyplot as plt\n",
        "%matplotlib inline\n",
        "\n",
        "import warnings\n",
        "warnings.filterwarnings(action='ignore')"
      ],
      "execution_count": 4,
      "outputs": []
    },
    {
      "cell_type": "markdown",
      "metadata": {
        "id": "1vCsxPIM1DG4"
      },
      "source": [
        "데이터 불러오기"
      ]
    },
    {
      "cell_type": "code",
      "metadata": {
        "id": "opD76CLJ0kHH"
      },
      "source": [
        "train = pd.read_csv('train.csv')\n",
        "test = pd.read_csv('test.csv')"
      ],
      "execution_count": 5,
      "outputs": []
    },
    {
      "cell_type": "markdown",
      "metadata": {
        "id": "Qff5tb7f1YVt"
      },
      "source": [
        "## EDA 데이터 탐색하기"
      ]
    },
    {
      "cell_type": "markdown",
      "metadata": {
        "id": "Xu4FVzFi1tm_"
      },
      "source": [
        "|Variable|Definition|Key|\n",
        "|:---:|:---:|:---:|\n",
        "|Survived|Survival|0 = No, 1 = Yes|\n",
        "|Pclass|Ticket class|1 = 1st, 2 = 2nd, 3 = 3rd|\n",
        "|Name|Name||\n",
        "|Sex|Sex||\n",
        "|Age|Age in years||\n",
        "|SibSp|# of siblings / spouses aboard the Titanic||\n",
        "|Parch|# of parents / children aboard the Titanic||\n",
        "|Ticket|Ticket number||\n",
        "|Fare|Passenger fare||\t\n",
        "|Cabin|Cabin number||\t\n",
        "|Embarked|Port of Embarkation|C = Cherbourg, Q = Queenstown, S = Southampton|"
      ]
    },
    {
      "cell_type": "code",
      "metadata": {
        "id": "TNQRFaA01aT_",
        "colab": {
          "base_uri": "https://localhost:8080/",
          "height": 204
        },
        "outputId": "567beaa0-5b01-4062-9f24-da75f5ea7d24"
      },
      "source": [
        "train.sample(5)"
      ],
      "execution_count": 6,
      "outputs": [
        {
          "output_type": "execute_result",
          "data": {
            "text/html": [
              "<div>\n",
              "<style scoped>\n",
              "    .dataframe tbody tr th:only-of-type {\n",
              "        vertical-align: middle;\n",
              "    }\n",
              "\n",
              "    .dataframe tbody tr th {\n",
              "        vertical-align: top;\n",
              "    }\n",
              "\n",
              "    .dataframe thead th {\n",
              "        text-align: right;\n",
              "    }\n",
              "</style>\n",
              "<table border=\"1\" class=\"dataframe\">\n",
              "  <thead>\n",
              "    <tr style=\"text-align: right;\">\n",
              "      <th></th>\n",
              "      <th>PassengerId</th>\n",
              "      <th>Survived</th>\n",
              "      <th>Pclass</th>\n",
              "      <th>Name</th>\n",
              "      <th>Sex</th>\n",
              "      <th>Age</th>\n",
              "      <th>SibSp</th>\n",
              "      <th>Parch</th>\n",
              "      <th>Ticket</th>\n",
              "      <th>Fare</th>\n",
              "      <th>Cabin</th>\n",
              "      <th>Embarked</th>\n",
              "    </tr>\n",
              "  </thead>\n",
              "  <tbody>\n",
              "    <tr>\n",
              "      <th>499</th>\n",
              "      <td>500</td>\n",
              "      <td>0</td>\n",
              "      <td>3</td>\n",
              "      <td>Svensson, Mr. Olof</td>\n",
              "      <td>male</td>\n",
              "      <td>24.0</td>\n",
              "      <td>0</td>\n",
              "      <td>0</td>\n",
              "      <td>350035</td>\n",
              "      <td>7.7958</td>\n",
              "      <td>NaN</td>\n",
              "      <td>S</td>\n",
              "    </tr>\n",
              "    <tr>\n",
              "      <th>260</th>\n",
              "      <td>261</td>\n",
              "      <td>0</td>\n",
              "      <td>3</td>\n",
              "      <td>Smith, Mr. Thomas</td>\n",
              "      <td>male</td>\n",
              "      <td>NaN</td>\n",
              "      <td>0</td>\n",
              "      <td>0</td>\n",
              "      <td>384461</td>\n",
              "      <td>7.7500</td>\n",
              "      <td>NaN</td>\n",
              "      <td>Q</td>\n",
              "    </tr>\n",
              "    <tr>\n",
              "      <th>224</th>\n",
              "      <td>225</td>\n",
              "      <td>1</td>\n",
              "      <td>1</td>\n",
              "      <td>Hoyt, Mr. Frederick Maxfield</td>\n",
              "      <td>male</td>\n",
              "      <td>38.0</td>\n",
              "      <td>1</td>\n",
              "      <td>0</td>\n",
              "      <td>19943</td>\n",
              "      <td>90.0000</td>\n",
              "      <td>C93</td>\n",
              "      <td>S</td>\n",
              "    </tr>\n",
              "    <tr>\n",
              "      <th>462</th>\n",
              "      <td>463</td>\n",
              "      <td>0</td>\n",
              "      <td>1</td>\n",
              "      <td>Gee, Mr. Arthur H</td>\n",
              "      <td>male</td>\n",
              "      <td>47.0</td>\n",
              "      <td>0</td>\n",
              "      <td>0</td>\n",
              "      <td>111320</td>\n",
              "      <td>38.5000</td>\n",
              "      <td>E63</td>\n",
              "      <td>S</td>\n",
              "    </tr>\n",
              "    <tr>\n",
              "      <th>184</th>\n",
              "      <td>185</td>\n",
              "      <td>1</td>\n",
              "      <td>3</td>\n",
              "      <td>Kink-Heilmann, Miss. Luise Gretchen</td>\n",
              "      <td>female</td>\n",
              "      <td>4.0</td>\n",
              "      <td>0</td>\n",
              "      <td>2</td>\n",
              "      <td>315153</td>\n",
              "      <td>22.0250</td>\n",
              "      <td>NaN</td>\n",
              "      <td>S</td>\n",
              "    </tr>\n",
              "  </tbody>\n",
              "</table>\n",
              "</div>"
            ],
            "text/plain": [
              "     PassengerId  Survived  Pclass  ...     Fare Cabin  Embarked\n",
              "499          500         0       3  ...   7.7958   NaN         S\n",
              "260          261         0       3  ...   7.7500   NaN         Q\n",
              "224          225         1       1  ...  90.0000   C93         S\n",
              "462          463         0       1  ...  38.5000   E63         S\n",
              "184          185         1       3  ...  22.0250   NaN         S\n",
              "\n",
              "[5 rows x 12 columns]"
            ]
          },
          "metadata": {
            "tags": []
          },
          "execution_count": 6
        }
      ]
    },
    {
      "cell_type": "code",
      "metadata": {
        "colab": {
          "base_uri": "https://localhost:8080/"
        },
        "id": "dI0POVWDQl1_",
        "outputId": "6e784546-7c09-4bf8-c7ca-4c2dc0e4f4a1"
      },
      "source": [
        "# 열 타입 확인\n",
        "train.info()"
      ],
      "execution_count": 7,
      "outputs": [
        {
          "output_type": "stream",
          "text": [
            "<class 'pandas.core.frame.DataFrame'>\n",
            "RangeIndex: 891 entries, 0 to 890\n",
            "Data columns (total 12 columns):\n",
            " #   Column       Non-Null Count  Dtype  \n",
            "---  ------       --------------  -----  \n",
            " 0   PassengerId  891 non-null    int64  \n",
            " 1   Survived     891 non-null    int64  \n",
            " 2   Pclass       891 non-null    int64  \n",
            " 3   Name         891 non-null    object \n",
            " 4   Sex          891 non-null    object \n",
            " 5   Age          714 non-null    float64\n",
            " 6   SibSp        891 non-null    int64  \n",
            " 7   Parch        891 non-null    int64  \n",
            " 8   Ticket       891 non-null    object \n",
            " 9   Fare         891 non-null    float64\n",
            " 10  Cabin        204 non-null    object \n",
            " 11  Embarked     889 non-null    object \n",
            "dtypes: float64(2), int64(5), object(5)\n",
            "memory usage: 83.7+ KB\n"
          ],
          "name": "stdout"
        }
      ]
    },
    {
      "cell_type": "code",
      "metadata": {
        "id": "nnMVtWA-1bAa",
        "colab": {
          "base_uri": "https://localhost:8080/",
          "height": 390
        },
        "outputId": "02119852-d0c6-4eaf-de88-a1192686d3ce"
      },
      "source": [
        "# 기초 통계\n",
        "train.describe(include = 'all')"
      ],
      "execution_count": 8,
      "outputs": [
        {
          "output_type": "execute_result",
          "data": {
            "text/html": [
              "<div>\n",
              "<style scoped>\n",
              "    .dataframe tbody tr th:only-of-type {\n",
              "        vertical-align: middle;\n",
              "    }\n",
              "\n",
              "    .dataframe tbody tr th {\n",
              "        vertical-align: top;\n",
              "    }\n",
              "\n",
              "    .dataframe thead th {\n",
              "        text-align: right;\n",
              "    }\n",
              "</style>\n",
              "<table border=\"1\" class=\"dataframe\">\n",
              "  <thead>\n",
              "    <tr style=\"text-align: right;\">\n",
              "      <th></th>\n",
              "      <th>PassengerId</th>\n",
              "      <th>Survived</th>\n",
              "      <th>Pclass</th>\n",
              "      <th>Name</th>\n",
              "      <th>Sex</th>\n",
              "      <th>Age</th>\n",
              "      <th>SibSp</th>\n",
              "      <th>Parch</th>\n",
              "      <th>Ticket</th>\n",
              "      <th>Fare</th>\n",
              "      <th>Cabin</th>\n",
              "      <th>Embarked</th>\n",
              "    </tr>\n",
              "  </thead>\n",
              "  <tbody>\n",
              "    <tr>\n",
              "      <th>count</th>\n",
              "      <td>891.000000</td>\n",
              "      <td>891.000000</td>\n",
              "      <td>891.000000</td>\n",
              "      <td>891</td>\n",
              "      <td>891</td>\n",
              "      <td>714.000000</td>\n",
              "      <td>891.000000</td>\n",
              "      <td>891.000000</td>\n",
              "      <td>891</td>\n",
              "      <td>891.000000</td>\n",
              "      <td>204</td>\n",
              "      <td>889</td>\n",
              "    </tr>\n",
              "    <tr>\n",
              "      <th>unique</th>\n",
              "      <td>NaN</td>\n",
              "      <td>NaN</td>\n",
              "      <td>NaN</td>\n",
              "      <td>891</td>\n",
              "      <td>2</td>\n",
              "      <td>NaN</td>\n",
              "      <td>NaN</td>\n",
              "      <td>NaN</td>\n",
              "      <td>681</td>\n",
              "      <td>NaN</td>\n",
              "      <td>147</td>\n",
              "      <td>3</td>\n",
              "    </tr>\n",
              "    <tr>\n",
              "      <th>top</th>\n",
              "      <td>NaN</td>\n",
              "      <td>NaN</td>\n",
              "      <td>NaN</td>\n",
              "      <td>Abbott, Mr. Rossmore Edward</td>\n",
              "      <td>male</td>\n",
              "      <td>NaN</td>\n",
              "      <td>NaN</td>\n",
              "      <td>NaN</td>\n",
              "      <td>CA. 2343</td>\n",
              "      <td>NaN</td>\n",
              "      <td>G6</td>\n",
              "      <td>S</td>\n",
              "    </tr>\n",
              "    <tr>\n",
              "      <th>freq</th>\n",
              "      <td>NaN</td>\n",
              "      <td>NaN</td>\n",
              "      <td>NaN</td>\n",
              "      <td>1</td>\n",
              "      <td>577</td>\n",
              "      <td>NaN</td>\n",
              "      <td>NaN</td>\n",
              "      <td>NaN</td>\n",
              "      <td>7</td>\n",
              "      <td>NaN</td>\n",
              "      <td>4</td>\n",
              "      <td>644</td>\n",
              "    </tr>\n",
              "    <tr>\n",
              "      <th>mean</th>\n",
              "      <td>446.000000</td>\n",
              "      <td>0.383838</td>\n",
              "      <td>2.308642</td>\n",
              "      <td>NaN</td>\n",
              "      <td>NaN</td>\n",
              "      <td>29.699118</td>\n",
              "      <td>0.523008</td>\n",
              "      <td>0.381594</td>\n",
              "      <td>NaN</td>\n",
              "      <td>32.204208</td>\n",
              "      <td>NaN</td>\n",
              "      <td>NaN</td>\n",
              "    </tr>\n",
              "    <tr>\n",
              "      <th>std</th>\n",
              "      <td>257.353842</td>\n",
              "      <td>0.486592</td>\n",
              "      <td>0.836071</td>\n",
              "      <td>NaN</td>\n",
              "      <td>NaN</td>\n",
              "      <td>14.526497</td>\n",
              "      <td>1.102743</td>\n",
              "      <td>0.806057</td>\n",
              "      <td>NaN</td>\n",
              "      <td>49.693429</td>\n",
              "      <td>NaN</td>\n",
              "      <td>NaN</td>\n",
              "    </tr>\n",
              "    <tr>\n",
              "      <th>min</th>\n",
              "      <td>1.000000</td>\n",
              "      <td>0.000000</td>\n",
              "      <td>1.000000</td>\n",
              "      <td>NaN</td>\n",
              "      <td>NaN</td>\n",
              "      <td>0.420000</td>\n",
              "      <td>0.000000</td>\n",
              "      <td>0.000000</td>\n",
              "      <td>NaN</td>\n",
              "      <td>0.000000</td>\n",
              "      <td>NaN</td>\n",
              "      <td>NaN</td>\n",
              "    </tr>\n",
              "    <tr>\n",
              "      <th>25%</th>\n",
              "      <td>223.500000</td>\n",
              "      <td>0.000000</td>\n",
              "      <td>2.000000</td>\n",
              "      <td>NaN</td>\n",
              "      <td>NaN</td>\n",
              "      <td>20.125000</td>\n",
              "      <td>0.000000</td>\n",
              "      <td>0.000000</td>\n",
              "      <td>NaN</td>\n",
              "      <td>7.910400</td>\n",
              "      <td>NaN</td>\n",
              "      <td>NaN</td>\n",
              "    </tr>\n",
              "    <tr>\n",
              "      <th>50%</th>\n",
              "      <td>446.000000</td>\n",
              "      <td>0.000000</td>\n",
              "      <td>3.000000</td>\n",
              "      <td>NaN</td>\n",
              "      <td>NaN</td>\n",
              "      <td>28.000000</td>\n",
              "      <td>0.000000</td>\n",
              "      <td>0.000000</td>\n",
              "      <td>NaN</td>\n",
              "      <td>14.454200</td>\n",
              "      <td>NaN</td>\n",
              "      <td>NaN</td>\n",
              "    </tr>\n",
              "    <tr>\n",
              "      <th>75%</th>\n",
              "      <td>668.500000</td>\n",
              "      <td>1.000000</td>\n",
              "      <td>3.000000</td>\n",
              "      <td>NaN</td>\n",
              "      <td>NaN</td>\n",
              "      <td>38.000000</td>\n",
              "      <td>1.000000</td>\n",
              "      <td>0.000000</td>\n",
              "      <td>NaN</td>\n",
              "      <td>31.000000</td>\n",
              "      <td>NaN</td>\n",
              "      <td>NaN</td>\n",
              "    </tr>\n",
              "    <tr>\n",
              "      <th>max</th>\n",
              "      <td>891.000000</td>\n",
              "      <td>1.000000</td>\n",
              "      <td>3.000000</td>\n",
              "      <td>NaN</td>\n",
              "      <td>NaN</td>\n",
              "      <td>80.000000</td>\n",
              "      <td>8.000000</td>\n",
              "      <td>6.000000</td>\n",
              "      <td>NaN</td>\n",
              "      <td>512.329200</td>\n",
              "      <td>NaN</td>\n",
              "      <td>NaN</td>\n",
              "    </tr>\n",
              "  </tbody>\n",
              "</table>\n",
              "</div>"
            ],
            "text/plain": [
              "        PassengerId    Survived      Pclass  ...        Fare Cabin  Embarked\n",
              "count    891.000000  891.000000  891.000000  ...  891.000000   204       889\n",
              "unique          NaN         NaN         NaN  ...         NaN   147         3\n",
              "top             NaN         NaN         NaN  ...         NaN    G6         S\n",
              "freq            NaN         NaN         NaN  ...         NaN     4       644\n",
              "mean     446.000000    0.383838    2.308642  ...   32.204208   NaN       NaN\n",
              "std      257.353842    0.486592    0.836071  ...   49.693429   NaN       NaN\n",
              "min        1.000000    0.000000    1.000000  ...    0.000000   NaN       NaN\n",
              "25%      223.500000    0.000000    2.000000  ...    7.910400   NaN       NaN\n",
              "50%      446.000000    0.000000    3.000000  ...   14.454200   NaN       NaN\n",
              "75%      668.500000    1.000000    3.000000  ...   31.000000   NaN       NaN\n",
              "max      891.000000    1.000000    3.000000  ...  512.329200   NaN       NaN\n",
              "\n",
              "[11 rows x 12 columns]"
            ]
          },
          "metadata": {
            "tags": []
          },
          "execution_count": 8
        }
      ]
    },
    {
      "cell_type": "markdown",
      "metadata": {
        "id": "wX7vLG-vBUG2"
      },
      "source": [
        "- 인물정보 : Name / Sex / Age  \n",
        "- 가족정보 : SibSp / Parch  \n",
        "- 탑승정보 : Pclass / Ticket / Fare / Cabin / Embarked\n"
      ]
    },
    {
      "cell_type": "markdown",
      "metadata": {
        "id": "0mxns89H7s1K"
      },
      "source": [
        "**결측값 확인하기**"
      ]
    },
    {
      "cell_type": "code",
      "metadata": {
        "id": "h1PL3BoV7qwc",
        "colab": {
          "base_uri": "https://localhost:8080/"
        },
        "outputId": "7171420e-000e-42a0-ba8c-4f54f480a709"
      },
      "source": [
        "train.isnull().sum()"
      ],
      "execution_count": 9,
      "outputs": [
        {
          "output_type": "execute_result",
          "data": {
            "text/plain": [
              "PassengerId      0\n",
              "Survived         0\n",
              "Pclass           0\n",
              "Name             0\n",
              "Sex              0\n",
              "Age            177\n",
              "SibSp            0\n",
              "Parch            0\n",
              "Ticket           0\n",
              "Fare             0\n",
              "Cabin          687\n",
              "Embarked         2\n",
              "dtype: int64"
            ]
          },
          "metadata": {
            "tags": []
          },
          "execution_count": 9
        }
      ]
    },
    {
      "cell_type": "markdown",
      "metadata": {
        "id": "WIHCQkdntW03"
      },
      "source": [
        "→ Age, Cabin, Embarked에 결측값 존재   \n",
        "→ Cabin은 데이터의 대부분이 결측값이므로 열을 삭제한다."
      ]
    },
    {
      "cell_type": "code",
      "metadata": {
        "id": "u5LZ2YInaozU",
        "colab": {
          "base_uri": "https://localhost:8080/"
        },
        "outputId": "ba4c95f5-005b-44a9-bc65-49460d299862"
      },
      "source": [
        "test.isnull().sum()"
      ],
      "execution_count": 10,
      "outputs": [
        {
          "output_type": "execute_result",
          "data": {
            "text/plain": [
              "PassengerId      0\n",
              "Pclass           0\n",
              "Name             0\n",
              "Sex              0\n",
              "Age             86\n",
              "SibSp            0\n",
              "Parch            0\n",
              "Ticket           0\n",
              "Fare             1\n",
              "Cabin          327\n",
              "Embarked         0\n",
              "dtype: int64"
            ]
          },
          "metadata": {
            "tags": []
          },
          "execution_count": 10
        }
      ]
    },
    {
      "cell_type": "markdown",
      "metadata": {
        "id": "PHsSlXuXtd41"
      },
      "source": [
        "→ Age, Fare, Cabin에 결측값 존재"
      ]
    },
    {
      "cell_type": "markdown",
      "metadata": {
        "id": "LmBUJoFZ7i8c"
      },
      "source": [
        "**Q. 얼마나 살아남았는지**"
      ]
    },
    {
      "cell_type": "code",
      "metadata": {
        "id": "qZ_XGUKw27WY",
        "colab": {
          "base_uri": "https://localhost:8080/"
        },
        "outputId": "be5dd592-1bbe-4b0e-ea87-24dccd652848"
      },
      "source": [
        "train['Survived'].value_counts()"
      ],
      "execution_count": 11,
      "outputs": [
        {
          "output_type": "execute_result",
          "data": {
            "text/plain": [
              "0    549\n",
              "1    342\n",
              "Name: Survived, dtype: int64"
            ]
          },
          "metadata": {
            "tags": []
          },
          "execution_count": 11
        }
      ]
    },
    {
      "cell_type": "code",
      "metadata": {
        "id": "ZzFsiIug722U",
        "colab": {
          "base_uri": "https://localhost:8080/",
          "height": 296
        },
        "outputId": "70ad8167-e40e-4cea-81ae-c56c51a7417f"
      },
      "source": [
        "sns.countplot(x = 'Survived', data = train)"
      ],
      "execution_count": 12,
      "outputs": [
        {
          "output_type": "execute_result",
          "data": {
            "text/plain": [
              "<matplotlib.axes._subplots.AxesSubplot at 0x7fcaf7412310>"
            ]
          },
          "metadata": {
            "tags": []
          },
          "execution_count": 12
        },
        {
          "output_type": "display_data",
          "data": {
            "image/png": "[encoded data removed]",
            "text/plain": [
              "<Figure size 432x288 with 1 Axes>"
            ]
          },
          "metadata": {
            "tags": [],
            "needs_background": "light"
          }
        }
      ]
    },
    {
      "cell_type": "markdown",
      "metadata": {
        "id": "iVSIA0I7BKLG"
      },
      "source": [
        "### 인물정보\n",
        "- Name\n",
        "- Sex\n",
        "- Age"
      ]
    },
    {
      "cell_type": "markdown",
      "metadata": {
        "id": "oEk_bMJrFnwh"
      },
      "source": [
        "#### 1. Name"
      ]
    },
    {
      "cell_type": "markdown",
      "metadata": {
        "id": "Hq94L1BiI7AH"
      },
      "source": [
        "[ NameTitle ]  \n",
        "이름 가운데에 Mr. Mrs. 등의 호칭이 있다. 이 호칭을 추출하여 살펴보고, 변수를 생성한다.  \n"
      ]
    },
    {
      "cell_type": "code",
      "metadata": {
        "id": "pQuHa935A0zX"
      },
      "source": [
        "com = re.compile('(?<= )\\w+\\.')\n",
        "train['NameTitle'] = train['Name'].apply(lambda x: com.findall(x)[0])\n",
        "\n",
        "test['NameTitle'] = test['Name'].apply(lambda x: com.findall(x)[0])"
      ],
      "execution_count": 13,
      "outputs": []
    },
    {
      "cell_type": "code",
      "metadata": {
        "id": "jz8EhvCdODfQ",
        "colab": {
          "base_uri": "https://localhost:8080/"
        },
        "outputId": "bd0d30c0-8e53-48a7-f7e0-c13bef2ad43b"
      },
      "source": [
        "train['NameTitle'].value_counts()"
      ],
      "execution_count": 14,
      "outputs": [
        {
          "output_type": "execute_result",
          "data": {
            "text/plain": [
              "Mr.          517\n",
              "Miss.        182\n",
              "Mrs.         125\n",
              "Master.       40\n",
              "Dr.            7\n",
              "Rev.           6\n",
              "Mlle.          2\n",
              "Major.         2\n",
              "Col.           2\n",
              "Capt.          1\n",
              "Countess.      1\n",
              "Don.           1\n",
              "Ms.            1\n",
              "Mme.           1\n",
              "Lady.          1\n",
              "Jonkheer.      1\n",
              "Sir.           1\n",
              "Name: NameTitle, dtype: int64"
            ]
          },
          "metadata": {
            "tags": []
          },
          "execution_count": 14
        }
      ]
    },
    {
      "cell_type": "code",
      "metadata": {
        "id": "5DBeyYrNbk7y",
        "colab": {
          "base_uri": "https://localhost:8080/"
        },
        "outputId": "aedd07c1-80f2-458d-920f-d264ed2e89a7"
      },
      "source": [
        "test['NameTitle'].value_counts()"
      ],
      "execution_count": 15,
      "outputs": [
        {
          "output_type": "execute_result",
          "data": {
            "text/plain": [
              "Mr.        240\n",
              "Miss.       78\n",
              "Mrs.        72\n",
              "Master.     21\n",
              "Col.         2\n",
              "Rev.         2\n",
              "Dr.          1\n",
              "Ms.          1\n",
              "Dona.        1\n",
              "Name: NameTitle, dtype: int64"
            ]
          },
          "metadata": {
            "tags": []
          },
          "execution_count": 15
        }
      ]
    },
    {
      "cell_type": "markdown",
      "metadata": {
        "id": "C6BghBFtJgK2"
      },
      "source": [
        "→ 비슷한 것끼리 묶는다."
      ]
    },
    {
      "cell_type": "code",
      "metadata": {
        "id": "b7ewRJDmNwSk"
      },
      "source": [
        "train['NameTitle'].replace(['Capt.','Don.','Dona.','Jonkheer.','Lady.','Major.','Mlle.','Mme.', 'Ms.','Sir.','Countess.'],\n",
        "                           ['Mr.','Mr.','Mrs.','Mr.','Mrs.','Mr.','Miss.','Mrs.','Miss.','Mr.','Mrs.'],inplace=True)\n",
        "test['NameTitle'].replace(['Capt.','Don.','Dona.','Jonkheer.','Lady.','Major.','Mlle.','Mme.', 'Ms.', 'Sir.','Countess.'],\n",
        "                           ['Mr.','Mr.','Mrs.','Mr.','Mrs.','Mr.','Miss.','Mrs.','Miss.','Mr.','Mrs.'],inplace=True)"
      ],
      "execution_count": 16,
      "outputs": []
    },
    {
      "cell_type": "code",
      "metadata": {
        "id": "ni__OQWyzwEi",
        "colab": {
          "base_uri": "https://localhost:8080/",
          "height": 296
        },
        "outputId": "2b746bfb-964a-4d7c-ea44-8dfc4740e09d"
      },
      "source": [
        "sns.countplot(x = 'Survived', data = train, hue = 'NameTitle')"
      ],
      "execution_count": 17,
      "outputs": [
        {
          "output_type": "execute_result",
          "data": {
            "text/plain": [
              "<matplotlib.axes._subplots.AxesSubplot at 0x7fcaf60ad3d0>"
            ]
          },
          "metadata": {
            "tags": []
          },
          "execution_count": 17
        },
        {
          "output_type": "display_data",
          "data": {
            "image/png": "[encoded data removed]",
            "text/plain": [
              "<Figure size 432x288 with 1 Axes>"
            ]
          },
          "metadata": {
            "tags": [],
            "needs_background": "light"
          }
        }
      ]
    },
    {
      "cell_type": "markdown",
      "metadata": {
        "id": "00UuF4d9P6jF"
      },
      "source": [
        "→ NameTitle별 Survived에 차이가 보임"
      ]
    },
    {
      "cell_type": "markdown",
      "metadata": {
        "id": "z_102kMFeZ8s"
      },
      "source": [
        "#### 2. Sex"
      ]
    },
    {
      "cell_type": "code",
      "metadata": {
        "id": "gPOs1torIqDT",
        "colab": {
          "base_uri": "https://localhost:8080/"
        },
        "outputId": "96859404-b2a7-4b06-db57-9df71dfa16c3"
      },
      "source": [
        "train['Sex'].value_counts()"
      ],
      "execution_count": 18,
      "outputs": [
        {
          "output_type": "execute_result",
          "data": {
            "text/plain": [
              "male      577\n",
              "female    314\n",
              "Name: Sex, dtype: int64"
            ]
          },
          "metadata": {
            "tags": []
          },
          "execution_count": 18
        }
      ]
    },
    {
      "cell_type": "code",
      "metadata": {
        "id": "nG9fzx2yeemc",
        "colab": {
          "base_uri": "https://localhost:8080/",
          "height": 296
        },
        "outputId": "34aa1306-3ee1-40c0-ccc0-492a81bfa497"
      },
      "source": [
        "sns.countplot(x = 'Sex', data = train, hue = 'Survived')"
      ],
      "execution_count": 19,
      "outputs": [
        {
          "output_type": "execute_result",
          "data": {
            "text/plain": [
              "<matplotlib.axes._subplots.AxesSubplot at 0x7fcaf5b47810>"
            ]
          },
          "metadata": {
            "tags": []
          },
          "execution_count": 19
        },
        {
          "output_type": "display_data",
          "data": {
            "image/png": "[encoded data removed]",
            "text/plain": [
              "<Figure size 432x288 with 1 Axes>"
            ]
          },
          "metadata": {
            "tags": [],
            "needs_background": "light"
          }
        }
      ]
    },
    {
      "cell_type": "markdown",
      "metadata": {
        "id": "jeqEpo5WfBOd"
      },
      "source": [
        "→ 여성은 대체로 살아남고(Survived 1), 남성은 대체로 사망함(Survived 0)"
      ]
    },
    {
      "cell_type": "markdown",
      "metadata": {
        "id": "JkEJ5WAQfIvP"
      },
      "source": [
        "#### 3. Age"
      ]
    },
    {
      "cell_type": "markdown",
      "metadata": {
        "id": "ab84ABz6_ONE"
      },
      "source": [
        "**결측값 채우기**\n",
        "- 전체 나이의 평균보다는 NameTitle의 평균으로 결측값을 채운다."
      ]
    },
    {
      "cell_type": "code",
      "metadata": {
        "id": "HPN7xQxi9vv0",
        "colab": {
          "base_uri": "https://localhost:8080/"
        },
        "outputId": "ef174b08-375a-443a-81a7-d1c3e73047da"
      },
      "source": [
        "# Age가 결측값인 것들의 NameTitle 확인\n",
        "train[train['Age'].isnull()]['NameTitle'].value_counts()"
      ],
      "execution_count": 20,
      "outputs": [
        {
          "output_type": "execute_result",
          "data": {
            "text/plain": [
              "Mr.        119\n",
              "Miss.       36\n",
              "Mrs.        17\n",
              "Master.      4\n",
              "Dr.          1\n",
              "Name: NameTitle, dtype: int64"
            ]
          },
          "metadata": {
            "tags": []
          },
          "execution_count": 20
        }
      ]
    },
    {
      "cell_type": "code",
      "metadata": {
        "id": "nmE_0YMF-Uic",
        "colab": {
          "base_uri": "https://localhost:8080/",
          "height": 266
        },
        "outputId": "c432b052-0e5c-425d-a7be-621c6d63b19d"
      },
      "source": [
        "# NameTitle별 Age의 평균\n",
        "train.groupby(['NameTitle'], as_index=False)['Age'].mean()"
      ],
      "execution_count": 21,
      "outputs": [
        {
          "output_type": "execute_result",
          "data": {
            "text/html": [
              "<div>\n",
              "<style scoped>\n",
              "    .dataframe tbody tr th:only-of-type {\n",
              "        vertical-align: middle;\n",
              "    }\n",
              "\n",
              "    .dataframe tbody tr th {\n",
              "        vertical-align: top;\n",
              "    }\n",
              "\n",
              "    .dataframe thead th {\n",
              "        text-align: right;\n",
              "    }\n",
              "</style>\n",
              "<table border=\"1\" class=\"dataframe\">\n",
              "  <thead>\n",
              "    <tr style=\"text-align: right;\">\n",
              "      <th></th>\n",
              "      <th>NameTitle</th>\n",
              "      <th>Age</th>\n",
              "    </tr>\n",
              "  </thead>\n",
              "  <tbody>\n",
              "    <tr>\n",
              "      <th>0</th>\n",
              "      <td>Col.</td>\n",
              "      <td>58.000000</td>\n",
              "    </tr>\n",
              "    <tr>\n",
              "      <th>1</th>\n",
              "      <td>Dr.</td>\n",
              "      <td>42.000000</td>\n",
              "    </tr>\n",
              "    <tr>\n",
              "      <th>2</th>\n",
              "      <td>Master.</td>\n",
              "      <td>4.574167</td>\n",
              "    </tr>\n",
              "    <tr>\n",
              "      <th>3</th>\n",
              "      <td>Miss.</td>\n",
              "      <td>21.845638</td>\n",
              "    </tr>\n",
              "    <tr>\n",
              "      <th>4</th>\n",
              "      <td>Mr.</td>\n",
              "      <td>32.615099</td>\n",
              "    </tr>\n",
              "    <tr>\n",
              "      <th>5</th>\n",
              "      <td>Mrs.</td>\n",
              "      <td>35.873874</td>\n",
              "    </tr>\n",
              "    <tr>\n",
              "      <th>6</th>\n",
              "      <td>Rev.</td>\n",
              "      <td>43.166667</td>\n",
              "    </tr>\n",
              "  </tbody>\n",
              "</table>\n",
              "</div>"
            ],
            "text/plain": [
              "  NameTitle        Age\n",
              "0      Col.  58.000000\n",
              "1       Dr.  42.000000\n",
              "2   Master.   4.574167\n",
              "3     Miss.  21.845638\n",
              "4       Mr.  32.615099\n",
              "5      Mrs.  35.873874\n",
              "6      Rev.  43.166667"
            ]
          },
          "metadata": {
            "tags": []
          },
          "execution_count": 21
        }
      ]
    },
    {
      "cell_type": "code",
      "metadata": {
        "id": "BalFZ0Sk-lWs"
      },
      "source": [
        "# Train 데이터의 Age 결측값 채우기\n",
        "train['Age'][(train['Age'].isnull())&(train['NameTitle']=='Mr.')] = 33\n",
        "train['Age'][(train['Age'].isnull())&(train['NameTitle']=='Miss.')] = 22\n",
        "train['Age'][(train['Age'].isnull())&(train['NameTitle']=='Mrs.')] = 36\n",
        "train['Age'][(train['Age'].isnull())&(train['NameTitle']=='Master.')] = 5\n",
        "train['Age'][(train['Age'].isnull())&(train['NameTitle']=='Dr.')] = 42"
      ],
      "execution_count": 22,
      "outputs": []
    },
    {
      "cell_type": "code",
      "metadata": {
        "id": "tnsKez_vhFkJ"
      },
      "source": [
        "# Test 데이터의 Age 결측값 채우기\n",
        "train['Age'][(train['Age'].isnull())&(train['NameTitle']=='Mr.')] = 33\n",
        "train['Age'][(train['Age'].isnull())&(train['NameTitle']=='Miss.')] = 22\n",
        "train['Age'][(train['Age'].isnull())&(train['NameTitle']=='Mrs.')] = 36\n",
        "train['Age'][(train['Age'].isnull())&(train['NameTitle']=='Master.')] = 5"
      ],
      "execution_count": 23,
      "outputs": []
    },
    {
      "cell_type": "markdown",
      "metadata": {
        "id": "Xel2rmC_xFfA"
      },
      "source": [
        "**그래프 그려 데이터 파악하기**"
      ]
    },
    {
      "cell_type": "code",
      "metadata": {
        "id": "KaF472hseukV"
      },
      "source": [
        "sa = pd.merge(train[train['Survived']==0].groupby(['Age'], as_index = False)['Survived'].count(),\n",
        "              train[train['Survived']==1].groupby(['Age'], as_index = False)['Survived'].count(), on = 'Age', how = 'outer')\n",
        "sa.columns = ['Age', 'Survived_0', 'Survived_1']\n",
        "sa.sort_values(['Age'], inplace = True)\n",
        "sa = sa.fillna(0)"
      ],
      "execution_count": 24,
      "outputs": []
    },
    {
      "cell_type": "code",
      "metadata": {
        "id": "hetzYjCNzvko",
        "colab": {
          "base_uri": "https://localhost:8080/",
          "height": 337
        },
        "outputId": "595719a4-f782-4dde-ca05-3c9a58ff8751"
      },
      "source": [
        "plt.figure(figsize = (10, 5))\n",
        "plt.plot(sa['Age'], sa['Survived_0'], color = 'r', label = 'Death')\n",
        "plt.plot(sa['Age'], sa['Survived_1'], color = 'g', label = 'Survived')\n",
        "plt.legend()"
      ],
      "execution_count": 25,
      "outputs": [
        {
          "output_type": "execute_result",
          "data": {
            "text/plain": [
              "<matplotlib.legend.Legend at 0x7fcaf60b43d0>"
            ]
          },
          "metadata": {
            "tags": []
          },
          "execution_count": 25
        },
        {
          "output_type": "display_data",
          "data": {
            "image/png": "[encoded data removed]",
            "text/plain": [
              "<Figure size 720x360 with 1 Axes>"
            ]
          },
          "metadata": {
            "tags": [],
            "needs_background": "light"
          }
        }
      ]
    },
    {
      "cell_type": "markdown",
      "metadata": {
        "id": "V0crmnB71hxk"
      },
      "source": [
        "→ 연령대별로 그룹을 나눈다.\n",
        "- 0 ~ 5 : 아기\n",
        "- 5 ~ 15 : 어린이  \n",
        "- 16 ~ 25 : 청소년  \n",
        "- 26 ~ 35 : 성년  \n",
        "- 36 ~ 50 : 중년  \n",
        "- 50 ~ : 노인  "
      ]
    },
    {
      "cell_type": "code",
      "metadata": {
        "id": "-cC9pMu9QWon"
      },
      "source": [
        "def age_dist(age):\n",
        "  if age < 5 :\n",
        "    ag = 0\n",
        "  elif age < 16 :\n",
        "    ag = 1\n",
        "  elif age < 26 :\n",
        "    ag = 2\n",
        "  elif age < 36 : \n",
        "    ag = 3\n",
        "  elif age < 50 : \n",
        "    ag = 4\n",
        "  else:\n",
        "    ag = 5\n",
        "  return ag\n",
        "\n",
        "train['Age_Dist'] = train['Age'].apply(lambda x: age_dist(x))\n",
        "\n",
        "test['Age_Dist'] = test['Age'].apply(lambda x: age_dist(x))"
      ],
      "execution_count": 26,
      "outputs": []
    },
    {
      "cell_type": "code",
      "metadata": {
        "id": "IzmnUklQR-Av",
        "colab": {
          "base_uri": "https://localhost:8080/",
          "height": 296
        },
        "outputId": "36650f36-cdbc-4c85-aa50-a4229767d085"
      },
      "source": [
        "sns.countplot(x = 'Survived', data = train, hue = 'Age_Dist')"
      ],
      "execution_count": 27,
      "outputs": [
        {
          "output_type": "execute_result",
          "data": {
            "text/plain": [
              "<matplotlib.axes._subplots.AxesSubplot at 0x7fcaf5a56c50>"
            ]
          },
          "metadata": {
            "tags": []
          },
          "execution_count": 27
        },
        {
          "output_type": "display_data",
          "data": {
            "image/png": "[encoded data removed]",
            "text/plain": [
              "<Figure size 432x288 with 1 Axes>"
            ]
          },
          "metadata": {
            "tags": [],
            "needs_background": "light"
          }
        }
      ]
    },
    {
      "cell_type": "markdown",
      "metadata": {
        "id": "gO98C3xn2b7X"
      },
      "source": [
        "#### 가족정보\n",
        "- Sibsp\n",
        "- Parch"
      ]
    },
    {
      "cell_type": "code",
      "metadata": {
        "id": "xmtmXe_3fL2o",
        "colab": {
          "base_uri": "https://localhost:8080/",
          "height": 296
        },
        "outputId": "1f2f02bf-1d1f-4c5f-9158-b188556ee0e4"
      },
      "source": [
        "sns.countplot(x = 'SibSp', data = train, hue = 'Survived')"
      ],
      "execution_count": 28,
      "outputs": [
        {
          "output_type": "execute_result",
          "data": {
            "text/plain": [
              "<matplotlib.axes._subplots.AxesSubplot at 0x7fcaf59c32d0>"
            ]
          },
          "metadata": {
            "tags": []
          },
          "execution_count": 28
        },
        {
          "output_type": "display_data",
          "data": {
            "image/png": "[encoded data removed]",
            "text/plain": [
              "<Figure size 432x288 with 1 Axes>"
            ]
          },
          "metadata": {
            "tags": [],
            "needs_background": "light"
          }
        }
      ]
    },
    {
      "cell_type": "code",
      "metadata": {
        "id": "_RduGN0knm9M",
        "colab": {
          "base_uri": "https://localhost:8080/",
          "height": 296
        },
        "outputId": "10b3debb-ca54-4ecf-9488-0836c3cbc1e8"
      },
      "source": [
        "sns.countplot(x = 'Parch', data = train, hue = 'Survived')\n",
        "plt.legend(loc = 5)"
      ],
      "execution_count": 29,
      "outputs": [
        {
          "output_type": "execute_result",
          "data": {
            "text/plain": [
              "<matplotlib.legend.Legend at 0x7fcaf5a49990>"
            ]
          },
          "metadata": {
            "tags": []
          },
          "execution_count": 29
        },
        {
          "output_type": "display_data",
          "data": {
            "image/png": "[encoded data removed]",
            "text/plain": [
              "<Figure size 432x288 with 1 Axes>"
            ]
          },
          "metadata": {
            "tags": [],
            "needs_background": "light"
          }
        }
      ]
    },
    {
      "cell_type": "markdown",
      "metadata": {
        "id": "JcItJlWbxJTB"
      },
      "source": [
        "→ 0일 때 Survived가 대체로 0이다.  \n",
        "→ 크게 차이가 나는 것 같지는 않다."
      ]
    },
    {
      "cell_type": "markdown",
      "metadata": {
        "id": "qFLpCjWt0zan"
      },
      "source": [
        "[ 가족의 수를 나타내는 변수 생성 ] "
      ]
    },
    {
      "cell_type": "code",
      "metadata": {
        "id": "CVUovjfD0BQE",
        "colab": {
          "base_uri": "https://localhost:8080/",
          "height": 296
        },
        "outputId": "6447b7d4-183b-4d47-a9a3-aef6436427d7"
      },
      "source": [
        "train['Family'] = train['SibSp'] + train['Parch']\n",
        "test['Family'] = test['SibSp'] + test['Parch']\n",
        "\n",
        "sns.countplot(x = 'Family', data = train, hue = 'Survived')"
      ],
      "execution_count": 30,
      "outputs": [
        {
          "output_type": "execute_result",
          "data": {
            "text/plain": [
              "<matplotlib.axes._subplots.AxesSubplot at 0x7fcaf5900650>"
            ]
          },
          "metadata": {
            "tags": []
          },
          "execution_count": 30
        },
        {
          "output_type": "display_data",
          "data": {
            "image/png": "[encoded data removed]",
            "text/plain": [
              "<Figure size 432x288 with 1 Axes>"
            ]
          },
          "metadata": {
            "tags": [],
            "needs_background": "light"
          }
        }
      ]
    },
    {
      "cell_type": "markdown",
      "metadata": {
        "id": "gfDGS1GxCp2Z"
      },
      "source": [
        "→ 4 이상은 4로 통합"
      ]
    },
    {
      "cell_type": "code",
      "metadata": {
        "id": "W6N6j81f0cs3"
      },
      "source": [
        "train['Family'] = np.where(train['Family']>3, 4, train['Family'])\n",
        "test['Family'] = np.where(test['Family']>3, 4, test['Family'])"
      ],
      "execution_count": 31,
      "outputs": []
    },
    {
      "cell_type": "markdown",
      "metadata": {
        "id": "WEA88DXJ5H99"
      },
      "source": [
        "### 탑승정보 \n",
        "- Pclass \n",
        "- Ticket \n",
        "- Fare \n",
        "- Cabin \n",
        "- Embarked"
      ]
    },
    {
      "cell_type": "markdown",
      "metadata": {
        "id": "JpUPM_U55yj8"
      },
      "source": [
        "#### 1. Pclass"
      ]
    },
    {
      "cell_type": "code",
      "metadata": {
        "id": "Kz3JpTWt5UPk",
        "colab": {
          "base_uri": "https://localhost:8080/",
          "height": 296
        },
        "outputId": "4f947ef3-36ab-4919-e604-7a099559a492"
      },
      "source": [
        "sns.countplot(x = 'Pclass', data = train, hue = 'Survived')"
      ],
      "execution_count": 32,
      "outputs": [
        {
          "output_type": "execute_result",
          "data": {
            "text/plain": [
              "<matplotlib.axes._subplots.AxesSubplot at 0x7fcaf5829610>"
            ]
          },
          "metadata": {
            "tags": []
          },
          "execution_count": 32
        },
        {
          "output_type": "display_data",
          "data": {
            "image/png": "[encoded data removed]",
            "text/plain": [
              "<Figure size 432x288 with 1 Axes>"
            ]
          },
          "metadata": {
            "tags": [],
            "needs_background": "light"
          }
        }
      ]
    },
    {
      "cell_type": "markdown",
      "metadata": {
        "id": "zVUPsy2t5h2B"
      },
      "source": [
        "→ 1등급이 많이 살아남음. 의외로 2등급은 그렇게 살아남지 못함"
      ]
    },
    {
      "cell_type": "markdown",
      "metadata": {
        "id": "ZAAyu5Gb5waA"
      },
      "source": [
        "#### 2. Ticket"
      ]
    },
    {
      "cell_type": "code",
      "metadata": {
        "id": "H-OTLk31Ms0Z",
        "colab": {
          "base_uri": "https://localhost:8080/"
        },
        "outputId": "08141b68-dc6c-4634-b4b0-ca8b64f96332"
      },
      "source": [
        "train['Ticket'].sample(3)"
      ],
      "execution_count": 33,
      "outputs": [
        {
          "output_type": "execute_result",
          "data": {
            "text/plain": [
              "496                36947\n",
              "804               347089\n",
              "636    STON/O 2. 3101292\n",
              "Name: Ticket, dtype: object"
            ]
          },
          "metadata": {
            "tags": []
          },
          "execution_count": 33
        }
      ]
    },
    {
      "cell_type": "code",
      "metadata": {
        "id": "jcm1PotK6J4a"
      },
      "source": [
        "def word_from_ticket(t):\n",
        "  if '.' in t:\n",
        "    com = re.compile('.+\\.')\n",
        "    word = com.findall(t)[0]\n",
        "  elif t.isdigit():\n",
        "    word = ''\n",
        "  else:\n",
        "    word = t.split(' ')[0]\n",
        "  word = word.lower()\n",
        "  word = word.replace('.', '').replace(' ', '')\n",
        "  return word"
      ],
      "execution_count": 34,
      "outputs": []
    },
    {
      "cell_type": "markdown",
      "metadata": {
        "id": "JQ7ru2_EMpNu"
      },
      "source": [
        "[ 티켓에서 글자부분과 숫자부분 분리 ]"
      ]
    },
    {
      "cell_type": "code",
      "metadata": {
        "id": "Nt1FOgCzxs6S"
      },
      "source": [
        "# 글자부분\n",
        "train['Ticket_word'] = train['Ticket'].apply(lambda x: word_from_ticket(x))\n",
        "\n",
        "# 숫자부분\n",
        "train['Ticket_num'] = train['Ticket'].apply(lambda x: x.split(' ')[-1])\n",
        "train['Ticket_num'][train['Ticket_num']=='LINE'] = 0\n",
        "train['Ticket_num'] = train['Ticket_num'].astype('int')"
      ],
      "execution_count": 35,
      "outputs": []
    },
    {
      "cell_type": "code",
      "metadata": {
        "id": "m4r3p1IXhgt1"
      },
      "source": [
        "# 글자부분\n",
        "test['Ticket_word'] = test['Ticket'].apply(lambda x: word_from_ticket(x))\n",
        "\n",
        "# 숫자부분\n",
        "test['Ticket_num'] = test['Ticket'].apply(lambda x: x.split(' ')[-1])\n",
        "test['Ticket_num'] = test['Ticket_num'].astype('int')"
      ],
      "execution_count": 36,
      "outputs": []
    },
    {
      "cell_type": "code",
      "metadata": {
        "id": "uV0t8gviWiCk",
        "colab": {
          "base_uri": "https://localhost:8080/"
        },
        "outputId": "b68d3fbf-fd4d-4a09-a08c-46f830cf5d37"
      },
      "source": [
        "train['Ticket_word'].value_counts()"
      ],
      "execution_count": 37,
      "outputs": [
        {
          "output_type": "execute_result",
          "data": {
            "text/plain": [
              "            661\n",
              "pc           60\n",
              "ca           42\n",
              "a/5          19\n",
              "ston/o2      18\n",
              "soton/oq     15\n",
              "w/c          10\n",
              "sc/paris      9\n",
              "a/4           6\n",
              "fcc           5\n",
              "soc           5\n",
              "c             5\n",
              "line          4\n",
              "so/pp         3\n",
              "sc/ah         3\n",
              "sc            3\n",
              "pp            3\n",
              "p/pp          2\n",
              "a5            2\n",
              "soton/o2      2\n",
              "we/p          2\n",
              "a/s           1\n",
              "sw            1\n",
              "sop           1\n",
              "fa            1\n",
              "sc/a4         1\n",
              "sw/pp         1\n",
              "sp            1\n",
              "fc            1\n",
              "a4            1\n",
              "wep           1\n",
              "sco/w         1\n",
              "so/c          1\n",
              "Name: Ticket_word, dtype: int64"
            ]
          },
          "metadata": {
            "tags": []
          },
          "execution_count": 37
        }
      ]
    },
    {
      "cell_type": "markdown",
      "metadata": {
        "id": "XmwaeKisXh9b"
      },
      "source": [
        "### 3. Fare"
      ]
    },
    {
      "cell_type": "code",
      "metadata": {
        "colab": {
          "base_uri": "https://localhost:8080/",
          "height": 470
        },
        "id": "xvmia7XVVsgi",
        "outputId": "a6cdd4e8-e31a-494a-92d3-20d18a2863d3"
      },
      "source": [
        "plt.figure(figsize = (10, 5))\n",
        "plt.subplot(121)\n",
        "sns.histplot(x = 'Fare', hue = 'Survived', data = train, bins=10)\n",
        "plt.subplot(122)\n",
        "plt.boxplot(train['Fare'])"
      ],
      "execution_count": 38,
      "outputs": [
        {
          "output_type": "execute_result",
          "data": {
            "text/plain": [
              "{'boxes': [<matplotlib.lines.Line2D at 0x7fcaf569b690>],\n",
              " 'caps': [<matplotlib.lines.Line2D at 0x7fcaf56a1710>,\n",
              "  <matplotlib.lines.Line2D at 0x7fcaf56a1c50>],\n",
              " 'fliers': [<matplotlib.lines.Line2D at 0x7fcaf56a9750>],\n",
              " 'means': [],\n",
              " 'medians': [<matplotlib.lines.Line2D at 0x7fcaf56a9210>],\n",
              " 'whiskers': [<matplotlib.lines.Line2D at 0x7fcaf569bc50>,\n",
              "  <matplotlib.lines.Line2D at 0x7fcaf56a11d0>]}"
            ]
          },
          "metadata": {
            "tags": []
          },
          "execution_count": 38
        },
        {
          "output_type": "display_data",
          "data": {
            "image/png": "[encoded data removed]",
            "text/plain": [
              "<Figure size 720x360 with 2 Axes>"
            ]
          },
          "metadata": {
            "tags": [],
            "needs_background": "light"
          }
        }
      ]
    },
    {
      "cell_type": "markdown",
      "metadata": {
        "id": "x6EnzCHGX8aj"
      },
      "source": [
        "**test의 결측값 채우기**\n"
      ]
    },
    {
      "cell_type": "code",
      "metadata": {
        "id": "AfURPD9oXjgf"
      },
      "source": [
        "test['Fare'][test['Fare'].isnull()]  = round(train[train['Embarked']=='S']['Fare'].mean(), 3)"
      ],
      "execution_count": 39,
      "outputs": []
    },
    {
      "cell_type": "markdown",
      "metadata": {
        "id": "BFbb7Gv94fjf"
      },
      "source": [
        "#### 4. Cabin"
      ]
    },
    {
      "cell_type": "markdown",
      "metadata": {
        "id": "kIg8H4L9YJ-Z"
      },
      "source": [
        "- 알파벳 + 숫자로 구성되어 있다.\n",
        "- Cabin이 여러개 들어있는 경우도 있다.  \n",
        "\n",
        "→ Cabin은 데이터의 대부분이 결측값이므로 열을 삭제한다."
      ]
    },
    {
      "cell_type": "code",
      "metadata": {
        "id": "C9WC_cR_Y5As"
      },
      "source": [
        "train.drop(['Cabin'], axis = 1, inplace = True)\n",
        "test.drop(['Cabin'], axis = 1, inplace = True)"
      ],
      "execution_count": 40,
      "outputs": []
    },
    {
      "cell_type": "markdown",
      "metadata": {
        "id": "KHvmEjY08tHr"
      },
      "source": [
        "#### 5. Embarked"
      ]
    },
    {
      "cell_type": "code",
      "metadata": {
        "id": "qRrl7Zqp8fUT",
        "colab": {
          "base_uri": "https://localhost:8080/",
          "height": 296
        },
        "outputId": "c9076a45-2543-47e3-f946-784aae8a88af"
      },
      "source": [
        "sns.countplot(x = 'Embarked', data = train , hue = 'Survived')"
      ],
      "execution_count": 41,
      "outputs": [
        {
          "output_type": "execute_result",
          "data": {
            "text/plain": [
              "<matplotlib.axes._subplots.AxesSubplot at 0x7fcaf6c903d0>"
            ]
          },
          "metadata": {
            "tags": []
          },
          "execution_count": 41
        },
        {
          "output_type": "display_data",
          "data": {
            "image/png": "[encoded data removed]",
            "text/plain": [
              "<Figure size 432x288 with 1 Axes>"
            ]
          },
          "metadata": {
            "tags": [],
            "needs_background": "light"
          }
        }
      ]
    },
    {
      "cell_type": "markdown",
      "metadata": {
        "id": "TQLqV8v1HMMn"
      },
      "source": [
        "**결측값 채우기**"
      ]
    },
    {
      "cell_type": "code",
      "metadata": {
        "id": "irfxMTwr-seE",
        "colab": {
          "base_uri": "https://localhost:8080/",
          "height": 286
        },
        "outputId": "5b38d118-05e2-4479-b7a7-58a81c899ebc"
      },
      "source": [
        "train[(train['Fare']>=79.5)&(train['Fare']<=82)].sort_values(['Fare'])"
      ],
      "execution_count": 42,
      "outputs": [
        {
          "output_type": "execute_result",
          "data": {
            "text/html": [
              "<div>\n",
              "<style scoped>\n",
              "    .dataframe tbody tr th:only-of-type {\n",
              "        vertical-align: middle;\n",
              "    }\n",
              "\n",
              "    .dataframe tbody tr th {\n",
              "        vertical-align: top;\n",
              "    }\n",
              "\n",
              "    .dataframe thead th {\n",
              "        text-align: right;\n",
              "    }\n",
              "</style>\n",
              "<table border=\"1\" class=\"dataframe\">\n",
              "  <thead>\n",
              "    <tr style=\"text-align: right;\">\n",
              "      <th></th>\n",
              "      <th>PassengerId</th>\n",
              "      <th>Survived</th>\n",
              "      <th>Pclass</th>\n",
              "      <th>Name</th>\n",
              "      <th>Sex</th>\n",
              "      <th>Age</th>\n",
              "      <th>SibSp</th>\n",
              "      <th>Parch</th>\n",
              "      <th>Ticket</th>\n",
              "      <th>Fare</th>\n",
              "      <th>Embarked</th>\n",
              "      <th>NameTitle</th>\n",
              "      <th>Age_Dist</th>\n",
              "      <th>Family</th>\n",
              "      <th>Ticket_word</th>\n",
              "      <th>Ticket_num</th>\n",
              "    </tr>\n",
              "  </thead>\n",
              "  <tbody>\n",
              "    <tr>\n",
              "      <th>262</th>\n",
              "      <td>263</td>\n",
              "      <td>0</td>\n",
              "      <td>1</td>\n",
              "      <td>Taussig, Mr. Emil</td>\n",
              "      <td>male</td>\n",
              "      <td>52.0</td>\n",
              "      <td>1</td>\n",
              "      <td>1</td>\n",
              "      <td>110413</td>\n",
              "      <td>79.6500</td>\n",
              "      <td>S</td>\n",
              "      <td>Mr.</td>\n",
              "      <td>5</td>\n",
              "      <td>2</td>\n",
              "      <td></td>\n",
              "      <td>110413</td>\n",
              "    </tr>\n",
              "    <tr>\n",
              "      <th>558</th>\n",
              "      <td>559</td>\n",
              "      <td>1</td>\n",
              "      <td>1</td>\n",
              "      <td>Taussig, Mrs. Emil (Tillie Mandelbaum)</td>\n",
              "      <td>female</td>\n",
              "      <td>39.0</td>\n",
              "      <td>1</td>\n",
              "      <td>1</td>\n",
              "      <td>110413</td>\n",
              "      <td>79.6500</td>\n",
              "      <td>S</td>\n",
              "      <td>Mrs.</td>\n",
              "      <td>4</td>\n",
              "      <td>2</td>\n",
              "      <td></td>\n",
              "      <td>110413</td>\n",
              "    </tr>\n",
              "    <tr>\n",
              "      <th>585</th>\n",
              "      <td>586</td>\n",
              "      <td>1</td>\n",
              "      <td>1</td>\n",
              "      <td>Taussig, Miss. Ruth</td>\n",
              "      <td>female</td>\n",
              "      <td>18.0</td>\n",
              "      <td>0</td>\n",
              "      <td>2</td>\n",
              "      <td>110413</td>\n",
              "      <td>79.6500</td>\n",
              "      <td>S</td>\n",
              "      <td>Miss.</td>\n",
              "      <td>2</td>\n",
              "      <td>2</td>\n",
              "      <td></td>\n",
              "      <td>110413</td>\n",
              "    </tr>\n",
              "    <tr>\n",
              "      <th>61</th>\n",
              "      <td>62</td>\n",
              "      <td>1</td>\n",
              "      <td>1</td>\n",
              "      <td>Icard, Miss. Amelie</td>\n",
              "      <td>female</td>\n",
              "      <td>38.0</td>\n",
              "      <td>0</td>\n",
              "      <td>0</td>\n",
              "      <td>113572</td>\n",
              "      <td>80.0000</td>\n",
              "      <td>NaN</td>\n",
              "      <td>Miss.</td>\n",
              "      <td>4</td>\n",
              "      <td>0</td>\n",
              "      <td></td>\n",
              "      <td>113572</td>\n",
              "    </tr>\n",
              "    <tr>\n",
              "      <th>829</th>\n",
              "      <td>830</td>\n",
              "      <td>1</td>\n",
              "      <td>1</td>\n",
              "      <td>Stone, Mrs. George Nelson (Martha Evelyn)</td>\n",
              "      <td>female</td>\n",
              "      <td>62.0</td>\n",
              "      <td>0</td>\n",
              "      <td>0</td>\n",
              "      <td>113572</td>\n",
              "      <td>80.0000</td>\n",
              "      <td>NaN</td>\n",
              "      <td>Mrs.</td>\n",
              "      <td>5</td>\n",
              "      <td>0</td>\n",
              "      <td></td>\n",
              "      <td>113572</td>\n",
              "    </tr>\n",
              "    <tr>\n",
              "      <th>445</th>\n",
              "      <td>446</td>\n",
              "      <td>1</td>\n",
              "      <td>1</td>\n",
              "      <td>Dodge, Master. Washington</td>\n",
              "      <td>male</td>\n",
              "      <td>4.0</td>\n",
              "      <td>0</td>\n",
              "      <td>2</td>\n",
              "      <td>33638</td>\n",
              "      <td>81.8583</td>\n",
              "      <td>S</td>\n",
              "      <td>Master.</td>\n",
              "      <td>0</td>\n",
              "      <td>2</td>\n",
              "      <td></td>\n",
              "      <td>33638</td>\n",
              "    </tr>\n",
              "  </tbody>\n",
              "</table>\n",
              "</div>"
            ],
            "text/plain": [
              "     PassengerId  Survived  Pclass  ... Family Ticket_word  Ticket_num\n",
              "262          263         0       1  ...      2                  110413\n",
              "558          559         1       1  ...      2                  110413\n",
              "585          586         1       1  ...      2                  110413\n",
              "61            62         1       1  ...      0                  113572\n",
              "829          830         1       1  ...      0                  113572\n",
              "445          446         1       1  ...      2                   33638\n",
              "\n",
              "[6 rows x 16 columns]"
            ]
          },
          "metadata": {
            "tags": []
          },
          "execution_count": 42
        }
      ]
    },
    {
      "cell_type": "markdown",
      "metadata": {
        "id": "jel9sFpJPGJq"
      },
      "source": [
        "→ 인접한 요금(Fare)들의 Embarked가 'S'이므로 'S'로 채움"
      ]
    },
    {
      "cell_type": "code",
      "metadata": {
        "id": "0DK6ad4AGCoZ"
      },
      "source": [
        "# 결측값 채우기\n",
        "train['Embarked'][train['Embarked'].isnull()] = 'S'"
      ],
      "execution_count": 43,
      "outputs": []
    },
    {
      "cell_type": "markdown",
      "metadata": {
        "id": "cUjl4sf3elIB"
      },
      "source": [
        "## 데이터 처리"
      ]
    },
    {
      "cell_type": "code",
      "metadata": {
        "id": "l-Zcy5_QhLID"
      },
      "source": [
        "X = pd.concat([train, test], axis = 0)"
      ],
      "execution_count": 44,
      "outputs": []
    },
    {
      "cell_type": "markdown",
      "metadata": {
        "id": "OEwgIdI8HccL"
      },
      "source": [
        "### Labeling"
      ]
    },
    {
      "cell_type": "code",
      "metadata": {
        "id": "spD1KpSkisQk"
      },
      "source": [
        "from sklearn.preprocessing import LabelEncoder\n",
        "\n",
        "le = LabelEncoder()\n",
        "\n",
        "for t in ['Sex', 'Embarked', 'NameTitle', 'Ticket_word']:\n",
        "  X[t] = le.fit_transform(X[t])"
      ],
      "execution_count": 45,
      "outputs": []
    },
    {
      "cell_type": "code",
      "metadata": {
        "id": "ZHocetOEkCpL"
      },
      "source": [
        "train = X[X['Survived'].notnull()]\n",
        "test = X[X['Survived'].isnull()]"
      ],
      "execution_count": 46,
      "outputs": []
    },
    {
      "cell_type": "markdown",
      "metadata": {
        "id": "nBquumMpI_ns"
      },
      "source": [
        "### Train-Test Split"
      ]
    },
    {
      "cell_type": "code",
      "metadata": {
        "id": "jqOrP3hDWBOu",
        "colab": {
          "base_uri": "https://localhost:8080/"
        },
        "outputId": "0e7b177a-6099-4ada-fd73-ef68a19912f8"
      },
      "source": [
        "train.columns"
      ],
      "execution_count": 47,
      "outputs": [
        {
          "output_type": "execute_result",
          "data": {
            "text/plain": [
              "Index(['PassengerId', 'Survived', 'Pclass', 'Name', 'Sex', 'Age', 'SibSp',\n",
              "       'Parch', 'Ticket', 'Fare', 'Embarked', 'NameTitle', 'Age_Dist',\n",
              "       'Family', 'Ticket_word', 'Ticket_num'],\n",
              "      dtype='object')"
            ]
          },
          "metadata": {
            "tags": []
          },
          "execution_count": 47
        }
      ]
    },
    {
      "cell_type": "code",
      "metadata": {
        "id": "by8I54j0Hrg5"
      },
      "source": [
        "X = train.drop(['PassengerId', 'Survived', 'Name', 'SibSp', 'Parch', 'Ticket', 'Ticket_num'], axis = 1)\n",
        "y = train['Survived']"
      ],
      "execution_count": 48,
      "outputs": []
    },
    {
      "cell_type": "code",
      "metadata": {
        "id": "C6LtEW0JImy3"
      },
      "source": [
        "from sklearn.model_selection import train_test_split\n",
        "\n",
        "X_train, X_test, y_train, y_test = train_test_split(X, y, test_size = 0.3, random_state = 42)"
      ],
      "execution_count": 49,
      "outputs": []
    },
    {
      "cell_type": "code",
      "metadata": {
        "id": "qxABgRoRJOni",
        "colab": {
          "base_uri": "https://localhost:8080/"
        },
        "outputId": "1dd86347-9675-4143-8ed8-fb9042ab1434"
      },
      "source": [
        "print('X_train : {} / X_test : {}\\ny_train : {} / y_test : {}'.format(X_train.shape, X_test.shape, y_train.shape, y_test.shape))"
      ],
      "execution_count": 50,
      "outputs": [
        {
          "output_type": "stream",
          "text": [
            "X_train : (623, 9) / X_test : (268, 9)\n",
            "y_train : (623,) / y_test : (268,)\n"
          ],
          "name": "stdout"
        }
      ]
    },
    {
      "cell_type": "markdown",
      "metadata": {
        "id": "bZbpVI7AHRzb"
      },
      "source": [
        "## Modeling"
      ]
    },
    {
      "cell_type": "markdown",
      "metadata": {
        "id": "rL-L_y5HKMII"
      },
      "source": [
        "### 1. Logistic Regression"
      ]
    },
    {
      "cell_type": "code",
      "metadata": {
        "id": "RFbJ0HRTJzlD",
        "colab": {
          "base_uri": "https://localhost:8080/",
          "height": 0
        },
        "outputId": "cce794f1-de85-473d-d940-7e3657695ffc"
      },
      "source": [
        "import statsmodels.api as sm\n",
        "\n",
        "logit = sm.Logit(y_train, X_train)\n",
        "result = logit.fit()\n",
        "\n",
        "# 분석결과\n",
        "result.summary()"
      ],
      "execution_count": 51,
      "outputs": [
        {
          "output_type": "stream",
          "text": [
            "Optimization terminated successfully.\n",
            "         Current function value: 0.490736\n",
            "         Iterations 6\n"
          ],
          "name": "stdout"
        },
        {
          "output_type": "execute_result",
          "data": {
            "text/html": [
              "<table class=\"simpletable\">\n",
              "<caption>Logit Regression Results</caption>\n",
              "<tr>\n",
              "  <th>Dep. Variable:</th>       <td>Survived</td>     <th>  No. Observations:  </th>  <td>   623</td>  \n",
              "</tr>\n",
              "<tr>\n",
              "  <th>Model:</th>                 <td>Logit</td>      <th>  Df Residuals:      </th>  <td>   614</td>  \n",
              "</tr>\n",
              "<tr>\n",
              "  <th>Method:</th>                 <td>MLE</td>       <th>  Df Model:          </th>  <td>     8</td>  \n",
              "</tr>\n",
              "<tr>\n",
              "  <th>Date:</th>            <td>Sat, 10 Apr 2021</td> <th>  Pseudo R-squ.:     </th>  <td>0.2558</td>  \n",
              "</tr>\n",
              "<tr>\n",
              "  <th>Time:</th>                <td>05:56:09</td>     <th>  Log-Likelihood:    </th> <td> -305.73</td> \n",
              "</tr>\n",
              "<tr>\n",
              "  <th>converged:</th>             <td>True</td>       <th>  LL-Null:           </th> <td> -410.79</td> \n",
              "</tr>\n",
              "<tr>\n",
              "  <th>Covariance Type:</th>     <td>nonrobust</td>    <th>  LLR p-value:       </th> <td>4.690e-41</td>\n",
              "</tr>\n",
              "</table>\n",
              "<table class=\"simpletable\">\n",
              "<tr>\n",
              "       <td></td>          <th>coef</th>     <th>std err</th>      <th>z</th>      <th>P>|z|</th>  <th>[0.025</th>    <th>0.975]</th>  \n",
              "</tr>\n",
              "<tr>\n",
              "  <th>Pclass</th>      <td>   -0.2402</td> <td>    0.126</td> <td>   -1.905</td> <td> 0.057</td> <td>   -0.487</td> <td>    0.007</td>\n",
              "</tr>\n",
              "<tr>\n",
              "  <th>Sex</th>         <td>   -2.2863</td> <td>    0.219</td> <td>  -10.418</td> <td> 0.000</td> <td>   -2.716</td> <td>   -1.856</td>\n",
              "</tr>\n",
              "<tr>\n",
              "  <th>Age</th>         <td>    0.0259</td> <td>    0.028</td> <td>    0.934</td> <td> 0.350</td> <td>   -0.028</td> <td>    0.080</td>\n",
              "</tr>\n",
              "<tr>\n",
              "  <th>Fare</th>        <td>    0.0106</td> <td>    0.003</td> <td>    3.097</td> <td> 0.002</td> <td>    0.004</td> <td>    0.017</td>\n",
              "</tr>\n",
              "<tr>\n",
              "  <th>Embarked</th>    <td>   -0.1123</td> <td>    0.130</td> <td>   -0.863</td> <td> 0.388</td> <td>   -0.367</td> <td>    0.143</td>\n",
              "</tr>\n",
              "<tr>\n",
              "  <th>NameTitle</th>   <td>    0.4950</td> <td>    0.131</td> <td>    3.778</td> <td> 0.000</td> <td>    0.238</td> <td>    0.752</td>\n",
              "</tr>\n",
              "<tr>\n",
              "  <th>Age_Dist</th>    <td>   -0.4975</td> <td>    0.320</td> <td>   -1.556</td> <td> 0.120</td> <td>   -1.124</td> <td>    0.129</td>\n",
              "</tr>\n",
              "<tr>\n",
              "  <th>Family</th>      <td>   -0.1879</td> <td>    0.099</td> <td>   -1.902</td> <td> 0.057</td> <td>   -0.382</td> <td>    0.006</td>\n",
              "</tr>\n",
              "<tr>\n",
              "  <th>Ticket_word</th> <td>    0.0146</td> <td>    0.010</td> <td>    1.416</td> <td> 0.157</td> <td>   -0.006</td> <td>    0.035</td>\n",
              "</tr>\n",
              "</table>"
            ],
            "text/plain": [
              "<class 'statsmodels.iolib.summary.Summary'>\n",
              "\"\"\"\n",
              "                           Logit Regression Results                           \n",
              "==============================================================================\n",
              "Dep. Variable:               Survived   No. Observations:                  623\n",
              "Model:                          Logit   Df Residuals:                      614\n",
              "Method:                           MLE   Df Model:                            8\n",
              "Date:                Sat, 10 Apr 2021   Pseudo R-squ.:                  0.2558\n",
              "Time:                        05:56:09   Log-Likelihood:                -305.73\n",
              "converged:                       True   LL-Null:                       -410.79\n",
              "Covariance Type:            nonrobust   LLR p-value:                 4.690e-41\n",
              "===============================================================================\n",
              "                  coef    std err          z      P>|z|      [0.025      0.975]\n",
              "-------------------------------------------------------------------------------\n",
              "Pclass         -0.2402      0.126     -1.905      0.057      -0.487       0.007\n",
              "Sex            -2.2863      0.219    -10.418      0.000      -2.716      -1.856\n",
              "Age             0.0259      0.028      0.934      0.350      -0.028       0.080\n",
              "Fare            0.0106      0.003      3.097      0.002       0.004       0.017\n",
              "Embarked       -0.1123      0.130     -0.863      0.388      -0.367       0.143\n",
              "NameTitle       0.4950      0.131      3.778      0.000       0.238       0.752\n",
              "Age_Dist       -0.4975      0.320     -1.556      0.120      -1.124       0.129\n",
              "Family         -0.1879      0.099     -1.902      0.057      -0.382       0.006\n",
              "Ticket_word     0.0146      0.010      1.416      0.157      -0.006       0.035\n",
              "===============================================================================\n",
              "\"\"\""
            ]
          },
          "metadata": {
            "tags": []
          },
          "execution_count": 51
        }
      ]
    },
    {
      "cell_type": "code",
      "metadata": {
        "id": "L1XqG6qZKCAs",
        "colab": {
          "base_uri": "https://localhost:8080/"
        },
        "outputId": "b5b4d006-ac76-41b3-d98c-6269f52a706e"
      },
      "source": [
        "from sklearn.linear_model import LogisticRegression\n",
        "lg = LogisticRegression()\n",
        "lg.fit(X_train, y_train)\n",
        "\n",
        "print('정확도 : {}'.format(lg.score(X_train, y_train)))\n",
        "\n",
        "from sklearn.metrics import confusion_matrix, classification_report\n",
        "print(confusion_matrix(lg.predict(X_test), y_test))\n",
        "print(classification_report(lg.predict(X_test), y_test))"
      ],
      "execution_count": 52,
      "outputs": [
        {
          "output_type": "stream",
          "text": [
            "정확도 : 0.7961476725521669\n",
            "[[135  33]\n",
            " [ 22  78]]\n",
            "              precision    recall  f1-score   support\n",
            "\n",
            "         0.0       0.86      0.80      0.83       168\n",
            "         1.0       0.70      0.78      0.74       100\n",
            "\n",
            "    accuracy                           0.79       268\n",
            "   macro avg       0.78      0.79      0.79       268\n",
            "weighted avg       0.80      0.79      0.80       268\n",
            "\n"
          ],
          "name": "stdout"
        }
      ]
    },
    {
      "cell_type": "markdown",
      "metadata": {
        "id": "0fdioiBZLo7M"
      },
      "source": [
        "### 2. KNN"
      ]
    },
    {
      "cell_type": "code",
      "metadata": {
        "id": "wmnYMjauLak0",
        "colab": {
          "base_uri": "https://localhost:8080/"
        },
        "outputId": "139f40be-410b-4373-9afb-bfc1acd4baf8"
      },
      "source": [
        "from sklearn.neighbors import KNeighborsClassifier\n",
        "knn = KNeighborsClassifier(n_neighbors = 10, \n",
        "                           weights = 'distance')\n",
        "knn.fit(X_train, y_train)\n",
        "y_pred = knn.predict(X_test)\n",
        "\n",
        "from sklearn.metrics import confusion_matrix, classification_report, accuracy_score\n",
        "print('정확도 : %.2f'%(accuracy_score(y_pred, y_test)))\n",
        "print(confusion_matrix(y_pred, y_test))\n",
        "print(classification_report(y_pred, y_test))"
      ],
      "execution_count": 53,
      "outputs": [
        {
          "output_type": "stream",
          "text": [
            "정확도 : 0.71\n",
            "[[132  54]\n",
            " [ 25  57]]\n",
            "              precision    recall  f1-score   support\n",
            "\n",
            "         0.0       0.84      0.71      0.77       186\n",
            "         1.0       0.51      0.70      0.59        82\n",
            "\n",
            "    accuracy                           0.71       268\n",
            "   macro avg       0.68      0.70      0.68       268\n",
            "weighted avg       0.74      0.71      0.71       268\n",
            "\n"
          ],
          "name": "stdout"
        }
      ]
    },
    {
      "cell_type": "markdown",
      "metadata": {
        "id": "1dUiGyw8MbB9"
      },
      "source": [
        "### 3. RandomForest"
      ]
    },
    {
      "cell_type": "code",
      "metadata": {
        "id": "QjMiyUiIMPSP",
        "colab": {
          "base_uri": "https://localhost:8080/"
        },
        "outputId": "89a371c1-e8ad-492c-f105-792bd0440009"
      },
      "source": [
        "from sklearn.ensemble import RandomForestClassifier\n",
        "\n",
        "rf = RandomForestClassifier(n_estimators=100, max_depth=8, min_samples_split=2, random_state=0)\n",
        "rf.fit(X_train, y_train)\n",
        "y_pred = rf.predict(X_test)\n",
        "\n",
        "print('정확도 : %.2f'%(accuracy_score(y_pred, y_test)))\n",
        "print(confusion_matrix(y_pred, y_test))\n",
        "print(classification_report(y_pred, y_test))"
      ],
      "execution_count": 54,
      "outputs": [
        {
          "output_type": "stream",
          "text": [
            "정확도 : 0.81\n",
            "[[143  37]\n",
            " [ 14  74]]\n",
            "              precision    recall  f1-score   support\n",
            "\n",
            "         0.0       0.91      0.79      0.85       180\n",
            "         1.0       0.67      0.84      0.74        88\n",
            "\n",
            "    accuracy                           0.81       268\n",
            "   macro avg       0.79      0.82      0.80       268\n",
            "weighted avg       0.83      0.81      0.81       268\n",
            "\n"
          ],
          "name": "stdout"
        }
      ]
    },
    {
      "cell_type": "code",
      "metadata": {
        "colab": {
          "base_uri": "https://localhost:8080/",
          "height": 0
        },
        "id": "PxC60M8nlXyg",
        "outputId": "d6318ce8-5120-4fb4-e52a-68e253680ded"
      },
      "source": [
        "sns.barplot(rf.feature_importances_, X_train.columns)"
      ],
      "execution_count": 55,
      "outputs": [
        {
          "output_type": "execute_result",
          "data": {
            "text/plain": [
              "<matplotlib.axes._subplots.AxesSubplot at 0x7fcad87a6250>"
            ]
          },
          "metadata": {
            "tags": []
          },
          "execution_count": 55
        },
        {
          "output_type": "display_data",
          "data": {
            "image/png": "[encoded data removed]",
            "text/plain": [
              "<Figure size 432x288 with 1 Axes>"
            ]
          },
          "metadata": {
            "tags": [],
            "needs_background": "light"
          }
        }
      ]
    },
    {
      "cell_type": "markdown",
      "metadata": {
        "id": "erh50OZzUFNM"
      },
      "source": [
        "### 4. XGBoost"
      ]
    },
    {
      "cell_type": "code",
      "metadata": {
        "id": "Ukfu9dR_UG8_",
        "colab": {
          "base_uri": "https://localhost:8080/"
        },
        "outputId": "690cc084-81ec-4b3a-e5fe-d74fc4d813ec"
      },
      "source": [
        "from xgboost import XGBClassifier, plot_importance, to_graphviz\n",
        "\n",
        "xgb = XGBClassifier(n_estimators=100, max_depth=8, learning_rate=0.01, colsample_bytree=0.8, colsample_bylevel=0.6, gamma=1, reg_alpha=1)\n",
        "\n",
        "xgb.fit(X_train, y_train)\n",
        "y_pred = xgb.predict(X_test)\n",
        "\n",
        "print('정확도 : %.2f'%(accuracy_score(y_pred, y_test)))\n",
        "print(confusion_matrix(y_pred, y_test))\n",
        "print(classification_report(y_pred, y_test))"
      ],
      "execution_count": 56,
      "outputs": [
        {
          "output_type": "stream",
          "text": [
            "정확도 : 0.82\n",
            "[[144  35]\n",
            " [ 13  76]]\n",
            "              precision    recall  f1-score   support\n",
            "\n",
            "         0.0       0.92      0.80      0.86       179\n",
            "         1.0       0.68      0.85      0.76        89\n",
            "\n",
            "    accuracy                           0.82       268\n",
            "   macro avg       0.80      0.83      0.81       268\n",
            "weighted avg       0.84      0.82      0.82       268\n",
            "\n"
          ],
          "name": "stdout"
        }
      ]
    },
    {
      "cell_type": "code",
      "metadata": {
        "id": "8dvo5ptbUN-j",
        "colab": {
          "base_uri": "https://localhost:8080/",
          "height": 0
        },
        "outputId": "96b198e9-311c-4c4a-94e2-f26ca59f9e9c"
      },
      "source": [
        "plot_importance(xgb)"
      ],
      "execution_count": 57,
      "outputs": [
        {
          "output_type": "execute_result",
          "data": {
            "text/plain": [
              "<matplotlib.axes._subplots.AxesSubplot at 0x7fcaf31a1390>"
            ]
          },
          "metadata": {
            "tags": []
          },
          "execution_count": 57
        },
        {
          "output_type": "display_data",
          "data": {
            "image/png": "[encoded data removed]",
            "text/plain": [
              "<Figure size 432x288 with 1 Axes>"
            ]
          },
          "metadata": {
            "tags": [],
            "needs_background": "light"
          }
        }
      ]
    },
    {
      "cell_type": "markdown",
      "metadata": {
        "id": "zgCpJ8Sil-Hr"
      },
      "source": [
        "### 5. LGBM"
      ]
    },
    {
      "cell_type": "code",
      "metadata": {
        "id": "6Ofo28iOnnnA",
        "colab": {
          "base_uri": "https://localhost:8080/"
        },
        "outputId": "774c55b2-8e9d-4e34-a4fa-2245b1406a90"
      },
      "source": [
        "from lightgbm import LGBMClassifier\n",
        "\n",
        "lgbm = LGBMClassifier(n_estimators=100, max_depth=8, learning_rate=0.1, colsample_bytree=0.6, min_child_weight=0.6, gamma=10, reg_alpha=3)\n",
        "lgbm.fit(X_train, y_train)\n",
        "y_pred = lgbm.predict(X_test)\n",
        "\n",
        "print('정확도 : %.2f'%(accuracy_score(y_pred, y_test)))\n",
        "print(confusion_matrix(y_pred, y_test))\n",
        "print(classification_report(y_pred, y_test))"
      ],
      "execution_count": 58,
      "outputs": [
        {
          "output_type": "stream",
          "text": [
            "정확도 : 0.82\n",
            "[[142  32]\n",
            " [ 15  79]]\n",
            "              precision    recall  f1-score   support\n",
            "\n",
            "         0.0       0.90      0.82      0.86       174\n",
            "         1.0       0.71      0.84      0.77        94\n",
            "\n",
            "    accuracy                           0.82       268\n",
            "   macro avg       0.81      0.83      0.81       268\n",
            "weighted avg       0.84      0.82      0.83       268\n",
            "\n"
          ],
          "name": "stdout"
        }
      ]
    },
    {
      "cell_type": "code",
      "metadata": {
        "id": "6Ks6UvLWP-eJ",
        "colab": {
          "base_uri": "https://localhost:8080/",
          "height": 0
        },
        "outputId": "1356a752-2893-4f46-fbc3-20f6d52efeea"
      },
      "source": [
        "fi = pd.DataFrame({'col':X_train.columns, 'importance':lgbm.feature_importances_})\n",
        "fi.sort_values(['importance'], inplace = True)\n",
        "plt.barh(fi['col'], fi['importance'])"
      ],
      "execution_count": 59,
      "outputs": [
        {
          "output_type": "execute_result",
          "data": {
            "text/plain": [
              "<BarContainer object of 9 artists>"
            ]
          },
          "metadata": {
            "tags": []
          },
          "execution_count": 59
        },
        {
          "output_type": "display_data",
          "data": {
            "image/png": "[encoded data removed]",
            "text/plain": [
              "<Figure size 432x288 with 1 Axes>"
            ]
          },
          "metadata": {
            "tags": [],
            "needs_background": "light"
          }
        }
      ]
    },
    {
      "cell_type": "markdown",
      "metadata": {
        "id": "HThPlH00aNbc"
      },
      "source": [
        "## Test 예측하기"
      ]
    },
    {
      "cell_type": "code",
      "metadata": {
        "id": "54j2xCDSVQJy"
      },
      "source": [
        "xgb = XGBClassifier(n_estimators=100, max_depth=8, learning_rate=0.01, colsample_bytree=0.8, colsample_bylevel=0.6, gamma=1, reg_alpha=1)\n",
        "\n",
        "xgb.fit(X, y)\n",
        "test['Survived'] = xgb.predict(test.drop(['PassengerId', 'Survived', 'Name', 'SibSp', 'Parch', \n",
        "                                          'Ticket', 'Ticket_num'], axis = 1))"
      ],
      "execution_count": 60,
      "outputs": []
    },
    {
      "cell_type": "code",
      "metadata": {
        "id": "nQIyNl_ypcmS"
      },
      "source": [
        "test['Survived'] = test['Survived'].astype('int')\n",
        "test[['PassengerId', 'Survived']].to_csv('submission.csv', index = False)"
      ],
      "execution_count": 61,
      "outputs": []
    },
    {
      "cell_type": "markdown",
      "metadata": {
        "id": "cZE5WldP0oVg"
      },
      "source": [
        "제출 예시"
      ]
    },
    {
      "cell_type": "code",
      "metadata": {
        "id": "Puq8pWmr0qBs",
        "colab": {
          "base_uri": "https://localhost:8080/",
          "height": 419
        },
        "outputId": "d47f1cb8-d13b-40f3-c94b-8e6914ce844b"
      },
      "source": [
        "pd.read_csv('submission.csv')"
      ],
      "execution_count": 62,
      "outputs": [
        {
          "output_type": "execute_result",
          "data": {
            "text/html": [
              "<div>\n",
              "<style scoped>\n",
              "    .dataframe tbody tr th:only-of-type {\n",
              "        vertical-align: middle;\n",
              "    }\n",
              "\n",
              "    .dataframe tbody tr th {\n",
              "        vertical-align: top;\n",
              "    }\n",
              "\n",
              "    .dataframe thead th {\n",
              "        text-align: right;\n",
              "    }\n",
              "</style>\n",
              "<table border=\"1\" class=\"dataframe\">\n",
              "  <thead>\n",
              "    <tr style=\"text-align: right;\">\n",
              "      <th></th>\n",
              "      <th>PassengerId</th>\n",
              "      <th>Survived</th>\n",
              "    </tr>\n",
              "  </thead>\n",
              "  <tbody>\n",
              "    <tr>\n",
              "      <th>0</th>\n",
              "      <td>892</td>\n",
              "      <td>0</td>\n",
              "    </tr>\n",
              "    <tr>\n",
              "      <th>1</th>\n",
              "      <td>893</td>\n",
              "      <td>0</td>\n",
              "    </tr>\n",
              "    <tr>\n",
              "      <th>2</th>\n",
              "      <td>894</td>\n",
              "      <td>0</td>\n",
              "    </tr>\n",
              "    <tr>\n",
              "      <th>3</th>\n",
              "      <td>895</td>\n",
              "      <td>0</td>\n",
              "    </tr>\n",
              "    <tr>\n",
              "      <th>4</th>\n",
              "      <td>896</td>\n",
              "      <td>1</td>\n",
              "    </tr>\n",
              "    <tr>\n",
              "      <th>...</th>\n",
              "      <td>...</td>\n",
              "      <td>...</td>\n",
              "    </tr>\n",
              "    <tr>\n",
              "      <th>413</th>\n",
              "      <td>1305</td>\n",
              "      <td>0</td>\n",
              "    </tr>\n",
              "    <tr>\n",
              "      <th>414</th>\n",
              "      <td>1306</td>\n",
              "      <td>1</td>\n",
              "    </tr>\n",
              "    <tr>\n",
              "      <th>415</th>\n",
              "      <td>1307</td>\n",
              "      <td>0</td>\n",
              "    </tr>\n",
              "    <tr>\n",
              "      <th>416</th>\n",
              "      <td>1308</td>\n",
              "      <td>0</td>\n",
              "    </tr>\n",
              "    <tr>\n",
              "      <th>417</th>\n",
              "      <td>1309</td>\n",
              "      <td>1</td>\n",
              "    </tr>\n",
              "  </tbody>\n",
              "</table>\n",
              "<p>418 rows × 2 columns</p>\n",
              "</div>"
            ],
            "text/plain": [
              "     PassengerId  Survived\n",
              "0            892         0\n",
              "1            893         0\n",
              "2            894         0\n",
              "3            895         0\n",
              "4            896         1\n",
              "..           ...       ...\n",
              "413         1305         0\n",
              "414         1306         1\n",
              "415         1307         0\n",
              "416         1308         0\n",
              "417         1309         1\n",
              "\n",
              "[418 rows x 2 columns]"
            ]
          },
          "metadata": {
            "tags": []
          },
          "execution_count": 62
        }
      ]
    }
  ]
}